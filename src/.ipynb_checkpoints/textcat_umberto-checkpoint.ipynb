{
 "cells": [
  {
   "cell_type": "code",
   "execution_count": 1,
   "metadata": {
    "colab": {
     "base_uri": "https://localhost:8080/"
    },
    "id": "h6i_srj56BfY",
    "outputId": "eae173ca-003a-4917-88cd-2855b9f819af"
   },
   "outputs": [],
   "source": [
    "!pip install spacy-nightly --pre"
   ]
  },
  {
   "cell_type": "code",
   "execution_count": 2,
   "metadata": {
    "colab": {
     "base_uri": "https://localhost:8080/",
     "height": 520
    },
    "id": "cGE-730C6H0G",
    "outputId": "fc0f2e42-e83f-4c08-9da7-cf86005f3066"
   },
   "outputs": [],
   "source": [
    "!pip install -U pip setuptools wheel"
   ]
  },
  {
   "cell_type": "code",
   "execution_count": null,
   "metadata": {
    "colab": {
     "base_uri": "https://localhost:8080/"
    },
    "id": "qtjuZtYwbmM4",
    "outputId": "e14be374-c5a4-47ab-f170-3dcbd171e8c6"
   },
   "outputs": [
    {
     "name": "stdout",
     "output_type": "stream",
     "text": [
      "\u001b[38;5;2m✔ Cloned 'tutorials/textcat_goemotions' from explosion/projects\u001b[0m\n",
      "/content/textcat_goemotions\n",
      "\u001b[38;5;2m✔ Your project is now ready!\u001b[0m\n",
      "To fetch the assets, run:\n",
      "python -m spacy project assets /content/textcat_goemotions\n"
     ]
    }
   ],
   "source": [
    "!python -m spacy project clone tutorials/textcat_goemotions"
   ]
  },
  {
   "cell_type": "code",
   "execution_count": 3,
   "metadata": {
    "colab": {
     "base_uri": "https://localhost:8080/"
    },
    "id": "TvRLLLKR8HN-",
    "outputId": "6e5551a3-2070-464e-9ff6-cc00946797f8"
   },
   "outputs": [],
   "source": [
    "!python -m spacy download en_core_web_trf"
   ]
  },
  {
   "cell_type": "code",
   "execution_count": 4,
   "metadata": {
    "colab": {
     "base_uri": "https://localhost:8080/"
    },
    "id": "GlOTC39v8IRS",
    "outputId": "40427726-aa7f-45ac-e057-53dd49709678"
   },
   "outputs": [],
   "source": [
    "!pip install -U transformers"
   ]
  },
  {
   "cell_type": "code",
   "execution_count": 5,
   "metadata": {
    "colab": {
     "base_uri": "https://localhost:8080/"
    },
    "id": "Az3qd6LA8Lo_",
    "outputId": "22ee40d0-4917-4360-d40d-4662ae5ecbe6"
   },
   "outputs": [],
   "source": [
    "!pip install spacy-transformers"
   ]
  },
  {
   "cell_type": "markdown",
   "metadata": {
    "id": "ariw2yre1Ce9"
   },
   "source": [
    "# From textcat repository I have to change following parameters:\n",
    "* Into scripts/convert_corpus.py file eliminate annotators column\n",
    "* Into project.yml change set bert as config param, 0 as gpu_id and add gpu on evaluate command\n",
    "* Into configs/bert.cfg file set Musixmatch/umberto-commoncrawl-cased-v1 as model name, pytorch as gpu_allocator, 10 as max_epochs and 5000 as patience value"
   ]
  },
  {
   "cell_type": "code",
   "execution_count": null,
   "metadata": {
    "id": "HxQkG3HFb7gW"
   },
   "outputs": [],
   "source": [
    "import pandas as pd"
   ]
  },
  {
   "cell_type": "code",
   "execution_count": null,
   "metadata": {
    "id": "5Y27J_RAgIfZ"
   },
   "outputs": [],
   "source": [
    "train = pd.read_csv('/content/drive/MyDrive/NLP/dataset_italian/dataset_italian/train_italian.csv')\n",
    "test = pd.read_csv('/content/drive/MyDrive/NLP/dataset_italian/dataset_italian/test_italian.csv')\n",
    "val = pd.read_csv('/content/drive/MyDrive/NLP/dataset_italian/dataset_italian/val_italian.csv')"
   ]
  },
  {
   "cell_type": "code",
   "execution_count": null,
   "metadata": {
    "colab": {
     "base_uri": "https://localhost:8080/"
    },
    "id": "A47J4H8wgaGJ",
    "outputId": "47f4152c-62bc-4a67-b638-2e12f4f5e24f"
   },
   "outputs": [
    {
     "name": "stdout",
     "output_type": "stream",
     "text": [
      "(16000, 2) (2000, 2) (2000, 2)\n"
     ]
    }
   ],
   "source": [
    "print(train.shape, test.shape, val.shape)"
   ]
  },
  {
   "cell_type": "code",
   "execution_count": null,
   "metadata": {
    "colab": {
     "base_uri": "https://localhost:8080/",
     "height": 423
    },
    "id": "d-tkYF7EgbJ6",
    "outputId": "29de82fd-9ec9-488f-cd06-a04ab1f535c6"
   },
   "outputs": [
    {
     "data": {
      "text/html": [
       "\n",
       "  <div id=\"df-b0decf19-2670-4428-8731-b03534fcfaff\">\n",
       "    <div class=\"colab-df-container\">\n",
       "      <div>\n",
       "<style scoped>\n",
       "    .dataframe tbody tr th:only-of-type {\n",
       "        vertical-align: middle;\n",
       "    }\n",
       "\n",
       "    .dataframe tbody tr th {\n",
       "        vertical-align: top;\n",
       "    }\n",
       "\n",
       "    .dataframe thead th {\n",
       "        text-align: right;\n",
       "    }\n",
       "</style>\n",
       "<table border=\"1\" class=\"dataframe\">\n",
       "  <thead>\n",
       "    <tr style=\"text-align: right;\">\n",
       "      <th></th>\n",
       "      <th>text</th>\n",
       "      <th>emotion</th>\n",
       "    </tr>\n",
       "  </thead>\n",
       "  <tbody>\n",
       "    <tr>\n",
       "      <th>0</th>\n",
       "      <td>mi sento abbastanza triste e dispiaciuto per m...</td>\n",
       "      <td>sadness</td>\n",
       "    </tr>\n",
       "    <tr>\n",
       "      <th>1</th>\n",
       "      <td>mi sento come se stessi ancora guardando una t...</td>\n",
       "      <td>sadness</td>\n",
       "    </tr>\n",
       "    <tr>\n",
       "      <th>2</th>\n",
       "      <td>mi sento un servitore fedele</td>\n",
       "      <td>love</td>\n",
       "    </tr>\n",
       "    <tr>\n",
       "      <th>3</th>\n",
       "      <td>mi sento solo irritabile e triste</td>\n",
       "      <td>anger</td>\n",
       "    </tr>\n",
       "    <tr>\n",
       "      <th>4</th>\n",
       "      <td>posso avere per un regalo o se mi sento festoso</td>\n",
       "      <td>joy</td>\n",
       "    </tr>\n",
       "    <tr>\n",
       "      <th>...</th>\n",
       "      <td>...</td>\n",
       "      <td>...</td>\n",
       "    </tr>\n",
       "    <tr>\n",
       "      <th>1995</th>\n",
       "      <td>ho l'esame domani mattina sono abbastanza ben ...</td>\n",
       "      <td>sadness</td>\n",
       "    </tr>\n",
       "    <tr>\n",
       "      <th>1996</th>\n",
       "      <td>mi preoccupo costantemente della loro lotta co...</td>\n",
       "      <td>joy</td>\n",
       "    </tr>\n",
       "    <tr>\n",
       "      <th>1997</th>\n",
       "      <td>Sento che è importante condividere queste info...</td>\n",
       "      <td>joy</td>\n",
       "    </tr>\n",
       "    <tr>\n",
       "      <th>1998</th>\n",
       "      <td>Sento davvero che se sei abbastanza appassiona...</td>\n",
       "      <td>joy</td>\n",
       "    </tr>\n",
       "    <tr>\n",
       "      <th>1999</th>\n",
       "      <td>mi sento come se volessi solo comprare qualsia...</td>\n",
       "      <td>joy</td>\n",
       "    </tr>\n",
       "  </tbody>\n",
       "</table>\n",
       "<p>2000 rows × 2 columns</p>\n",
       "</div>\n",
       "      <button class=\"colab-df-convert\" onclick=\"convertToInteractive('df-b0decf19-2670-4428-8731-b03534fcfaff')\"\n",
       "              title=\"Convert this dataframe to an interactive table.\"\n",
       "              style=\"display:none;\">\n",
       "        \n",
       "  <svg xmlns=\"http://www.w3.org/2000/svg\" height=\"24px\"viewBox=\"0 0 24 24\"\n",
       "       width=\"24px\">\n",
       "    <path d=\"M0 0h24v24H0V0z\" fill=\"none\"/>\n",
       "    <path d=\"M18.56 5.44l.94 2.06.94-2.06 2.06-.94-2.06-.94-.94-2.06-.94 2.06-2.06.94zm-11 1L8.5 8.5l.94-2.06 2.06-.94-2.06-.94L8.5 2.5l-.94 2.06-2.06.94zm10 10l.94 2.06.94-2.06 2.06-.94-2.06-.94-.94-2.06-.94 2.06-2.06.94z\"/><path d=\"M17.41 7.96l-1.37-1.37c-.4-.4-.92-.59-1.43-.59-.52 0-1.04.2-1.43.59L10.3 9.45l-7.72 7.72c-.78.78-.78 2.05 0 2.83L4 21.41c.39.39.9.59 1.41.59.51 0 1.02-.2 1.41-.59l7.78-7.78 2.81-2.81c.8-.78.8-2.07 0-2.86zM5.41 20L4 18.59l7.72-7.72 1.47 1.35L5.41 20z\"/>\n",
       "  </svg>\n",
       "      </button>\n",
       "      \n",
       "  <style>\n",
       "    .colab-df-container {\n",
       "      display:flex;\n",
       "      flex-wrap:wrap;\n",
       "      gap: 12px;\n",
       "    }\n",
       "\n",
       "    .colab-df-convert {\n",
       "      background-color: #E8F0FE;\n",
       "      border: none;\n",
       "      border-radius: 50%;\n",
       "      cursor: pointer;\n",
       "      display: none;\n",
       "      fill: #1967D2;\n",
       "      height: 32px;\n",
       "      padding: 0 0 0 0;\n",
       "      width: 32px;\n",
       "    }\n",
       "\n",
       "    .colab-df-convert:hover {\n",
       "      background-color: #E2EBFA;\n",
       "      box-shadow: 0px 1px 2px rgba(60, 64, 67, 0.3), 0px 1px 3px 1px rgba(60, 64, 67, 0.15);\n",
       "      fill: #174EA6;\n",
       "    }\n",
       "\n",
       "    [theme=dark] .colab-df-convert {\n",
       "      background-color: #3B4455;\n",
       "      fill: #D2E3FC;\n",
       "    }\n",
       "\n",
       "    [theme=dark] .colab-df-convert:hover {\n",
       "      background-color: #434B5C;\n",
       "      box-shadow: 0px 1px 3px 1px rgba(0, 0, 0, 0.15);\n",
       "      filter: drop-shadow(0px 1px 2px rgba(0, 0, 0, 0.3));\n",
       "      fill: #FFFFFF;\n",
       "    }\n",
       "  </style>\n",
       "\n",
       "      <script>\n",
       "        const buttonEl =\n",
       "          document.querySelector('#df-b0decf19-2670-4428-8731-b03534fcfaff button.colab-df-convert');\n",
       "        buttonEl.style.display =\n",
       "          google.colab.kernel.accessAllowed ? 'block' : 'none';\n",
       "\n",
       "        async function convertToInteractive(key) {\n",
       "          const element = document.querySelector('#df-b0decf19-2670-4428-8731-b03534fcfaff');\n",
       "          const dataTable =\n",
       "            await google.colab.kernel.invokeFunction('convertToInteractive',\n",
       "                                                     [key], {});\n",
       "          if (!dataTable) return;\n",
       "\n",
       "          const docLinkHtml = 'Like what you see? Visit the ' +\n",
       "            '<a target=\"_blank\" href=https://colab.research.google.com/notebooks/data_table.ipynb>data table notebook</a>'\n",
       "            + ' to learn more about interactive tables.';\n",
       "          element.innerHTML = '';\n",
       "          dataTable['output_type'] = 'display_data';\n",
       "          await google.colab.output.renderOutput(dataTable, element);\n",
       "          const docLink = document.createElement('div');\n",
       "          docLink.innerHTML = docLinkHtml;\n",
       "          element.appendChild(docLink);\n",
       "        }\n",
       "      </script>\n",
       "    </div>\n",
       "  </div>\n",
       "  "
      ],
      "text/plain": [
       "                                                   text  emotion\n",
       "0     mi sento abbastanza triste e dispiaciuto per m...  sadness\n",
       "1     mi sento come se stessi ancora guardando una t...  sadness\n",
       "2                          mi sento un servitore fedele     love\n",
       "3                     mi sento solo irritabile e triste    anger\n",
       "4       posso avere per un regalo o se mi sento festoso      joy\n",
       "...                                                 ...      ...\n",
       "1995  ho l'esame domani mattina sono abbastanza ben ...  sadness\n",
       "1996  mi preoccupo costantemente della loro lotta co...      joy\n",
       "1997  Sento che è importante condividere queste info...      joy\n",
       "1998  Sento davvero che se sei abbastanza appassiona...      joy\n",
       "1999  mi sento come se volessi solo comprare qualsia...      joy\n",
       "\n",
       "[2000 rows x 2 columns]"
      ]
     },
     "execution_count": 14,
     "metadata": {},
     "output_type": "execute_result"
    }
   ],
   "source": [
    "val"
   ]
  },
  {
   "cell_type": "code",
   "execution_count": null,
   "metadata": {
    "id": "tNKa8DIBjhlz"
   },
   "outputs": [],
   "source": [
    "emotions = set()\n",
    "for df in [train,test,val]:\n",
    "    for em in train.emotion.unique():\n",
    "        emotions.add(em)\n",
    "emotions = list(emotions)"
   ]
  },
  {
   "cell_type": "code",
   "execution_count": null,
   "metadata": {
    "id": "j3Qjt3fYy0cb"
   },
   "outputs": [],
   "source": [
    "map_labels = {}\n",
    "for i,value in enumerate(emotions):\n",
    "    map_labels[value] = i"
   ]
  },
  {
   "cell_type": "code",
   "execution_count": null,
   "metadata": {
    "colab": {
     "base_uri": "https://localhost:8080/"
    },
    "id": "KjHNSE_VzWAJ",
    "outputId": "704029a8-d8d7-4ab8-b2fb-3e0ba87fff71"
   },
   "outputs": [
    {
     "data": {
      "text/plain": [
       "{'anger': 3, 'fear': 1, 'joy': 5, 'love': 2, 'sadness': 0, 'surprise': 4}"
      ]
     },
     "execution_count": 29,
     "metadata": {},
     "output_type": "execute_result"
    }
   ],
   "source": [
    "map_labels"
   ]
  },
  {
   "cell_type": "code",
   "execution_count": null,
   "metadata": {
    "id": "ekxm8IpVzZqb"
   },
   "outputs": [],
   "source": [
    "for df in [train, test, val]:\n",
    "    df['emotion'] = df['emotion'].map(map_labels)\n"
   ]
  },
  {
   "cell_type": "code",
   "execution_count": null,
   "metadata": {
    "id": "lJczzFDqzZtC"
   },
   "outputs": [],
   "source": [
    "train.to_csv('/content/drive/Shareddrives/topnetwork/Emotion_spacy_pipe/emotion_dataset/train_italian.csv',index = False)\n",
    "test.to_csv('/content/drive/Shareddrives/topnetwork/Emotion_spacy_pipe/emotion_dataset/test_italian.csv',index = False)\n",
    "val.to_csv('/content/drive/Shareddrives/topnetwork/Emotion_spacy_pipe/emotion_dataset/val_italian.csv',index = False)"
   ]
  },
  {
   "cell_type": "code",
   "execution_count": null,
   "metadata": {
    "id": "6eHlYFV8ka1t"
   },
   "outputs": [],
   "source": [
    "with open('/content/drive/Shareddrives/topnetwork/Emotion_spacy_pipe/tsv_data/categories.txt', 'w') as f:\n",
    "    for em in emotions:\n",
    "        f.write(em + '\\n')"
   ]
  },
  {
   "cell_type": "code",
   "execution_count": null,
   "metadata": {
    "id": "6akWgNgZg_By"
   },
   "outputs": [],
   "source": [
    "import csv\n",
    "def csv2tsv(input_path,output_path):\n",
    "    with open(input_path, 'r') as csvin, open(output_path, 'w') as tsvout:\n",
    "        csvin = csv.reader(csvin)\n",
    "        next(csvin, None)  # skip the headers\n",
    "        tsvout = csv.writer(tsvout, delimiter='\\t')\n",
    "\n",
    "        for row in csvin:\n",
    "            tsvout.writerow(row)"
   ]
  },
  {
   "cell_type": "code",
   "execution_count": null,
   "metadata": {
    "colab": {
     "base_uri": "https://localhost:8080/"
    },
    "id": "I9yfoP-CdGsg",
    "outputId": "c71a3dd0-2848-4941-994c-3eb7155d8c68"
   },
   "outputs": [
    {
     "name": "stdout",
     "output_type": "stream",
     "text": [
      "Mounted at /content/drive\n"
     ]
    }
   ],
   "source": [
    "from google.colab import drive\n",
    "drive.mount('/content/drive')"
   ]
  },
  {
   "cell_type": "code",
   "execution_count": null,
   "metadata": {
    "id": "QPsRLlfIhci2"
   },
   "outputs": [],
   "source": [
    "csv2tsv('/content/drive/Shareddrives/topnetwork/Emotion_spacy_pipe/emotion_dataset/train_italian.csv', '/content/drive/Shareddrives/topnetwork/Emotion_spacy_pipe/tsv_data/train.tsv')\n",
    "csv2tsv('/content/drive/Shareddrives/topnetwork/Emotion_spacy_pipe/emotion_dataset/test_italian.csv', '/content/drive/Shareddrives/topnetwork/Emotion_spacy_pipe/tsv_data/test.tsv')\n",
    "csv2tsv('/content/drive/Shareddrives/topnetwork/Emotion_spacy_pipe/emotion_dataset/val_italian.csv', '/content/drive/Shareddrives/topnetwork/Emotion_spacy_pipe/tsv_data/dev.tsv')"
   ]
  },
  {
   "cell_type": "code",
   "execution_count": null,
   "metadata": {
    "colab": {
     "base_uri": "https://localhost:8080/"
    },
    "id": "jqZcDaNNp8TX",
    "outputId": "8a4e1614-80e9-4103-eea9-70b3d51f313a"
   },
   "outputs": [
    {
     "name": "stdout",
     "output_type": "stream",
     "text": [
      "/content/textcat_goemotions\n"
     ]
    }
   ],
   "source": [
    "%cd /content/textcat_goemotions"
   ]
  },
  {
   "cell_type": "code",
   "execution_count": null,
   "metadata": {
    "id": "9MCCeOpr6k4Y"
   },
   "outputs": [],
   "source": [
    "!mkdir assets"
   ]
  },
  {
   "cell_type": "code",
   "execution_count": null,
   "metadata": {
    "id": "OdDO7QJtiNte"
   },
   "outputs": [],
   "source": [
    "!cp '/content/drive/Shareddrives/topnetwork/Emotion_spacy_pipe/tsv_data/categories.txt' '/content/textcat_goemotions/assets/'\n",
    "!cp '/content/drive/Shareddrives/topnetwork/Emotion_spacy_pipe/tsv_data/train.tsv' '/content/textcat_goemotions/assets/'\n",
    "!cp '/content/drive/Shareddrives/topnetwork/Emotion_spacy_pipe/tsv_data/test.tsv' '/content/textcat_goemotions/assets/'\n",
    "!cp '/content/drive/Shareddrives/topnetwork/Emotion_spacy_pipe/tsv_data/dev.tsv' '/content/textcat_goemotions/assets/'"
   ]
  },
  {
   "cell_type": "code",
   "execution_count": null,
   "metadata": {
    "colab": {
     "base_uri": "https://localhost:8080/"
    },
    "id": "RQhILOd-nE90",
    "outputId": "ebd4335b-3b41-4c0e-c0c9-193ea47de58a"
   },
   "outputs": [
    {
     "name": "stdout",
     "output_type": "stream",
     "text": [
      "\u001b[1m\n",
      "================================= preprocess =================================\u001b[0m\n",
      "Running command: /usr/bin/python3 scripts/convert_corpus.py\n"
     ]
    }
   ],
   "source": [
    "!spacy project run preprocess"
   ]
  },
  {
   "cell_type": "code",
   "execution_count": null,
   "metadata": {
    "colab": {
     "base_uri": "https://localhost:8080/"
    },
    "id": "PUMjrNvzyHPV",
    "outputId": "5ae22098-e28a-41e8-a965-b5d629c50942"
   },
   "outputs": [
    {
     "name": "stdout",
     "output_type": "stream",
     "text": [
      "\u001b[1m\n",
      "=================================== train ===================================\u001b[0m\n",
      "Running command: /usr/bin/python3 -m spacy train ./configs/bert.cfg -o training/bert --gpu-id 0\n",
      "\u001b[38;5;2m✔ Created output directory: training/bert\u001b[0m\n",
      "\u001b[38;5;4mℹ Using GPU: 0\u001b[0m\n",
      "\u001b[1m\n",
      "=========================== Initializing pipeline ===========================\u001b[0m\n",
      "[2022-01-24 13:56:33,681] [INFO] Set up nlp object from config\n",
      "[2022-01-24 13:56:33,690] [INFO] Pipeline: ['transformer', 'textcat']\n",
      "[2022-01-24 13:56:33,694] [INFO] Created vocabulary\n",
      "[2022-01-24 13:56:33,694] [INFO] Finished initializing nlp object\n",
      "Downloading: 100% 508/508 [00:00<00:00, 517kB/s]\n",
      "Downloading: 100% 794k/794k [00:00<00:00, 1.85MB/s]\n",
      "Downloading: 100% 1.68M/1.68M [00:00<00:00, 3.28MB/s]\n",
      "Downloading: 100% 445M/445M [01:33<00:00, 4.77MB/s]\n",
      "Some weights of the model checkpoint at Musixmatch/umberto-commoncrawl-cased-v1 were not used when initializing CamembertModel: ['lm_head.layer_norm.weight', 'lm_head.dense.weight', 'lm_head.decoder.weight', 'lm_head.bias', 'lm_head.dense.bias', 'lm_head.layer_norm.bias']\n",
      "- This IS expected if you are initializing CamembertModel from the checkpoint of a model trained on another task or with another architecture (e.g. initializing a BertForSequenceClassification model from a BertForPreTraining model).\n",
      "- This IS NOT expected if you are initializing CamembertModel from the checkpoint of a model that you expect to be exactly identical (initializing a BertForSequenceClassification model from a BertForSequenceClassification model).\n",
      "[2022-01-24 13:58:34,764] [INFO] Initialized pipeline components: ['transformer', 'textcat']\n",
      "\u001b[38;5;2m✔ Initialized pipeline\u001b[0m\n",
      "\u001b[1m\n",
      "============================= Training pipeline =============================\u001b[0m\n",
      "\u001b[38;5;4mℹ Pipeline: ['transformer', 'textcat']\u001b[0m\n",
      "\u001b[38;5;4mℹ Initial learn rate: 0.0\u001b[0m\n",
      "E    #       LOSS TRANS...  LOSS TEXTCAT  CATS_SCORE  CATS_MACRO_F  SCORE \n",
      "---  ------  -------------  ------------  ----------  ------------  ------\n",
      "  0       0           0.00          1.81       53.24         23.99    0.39\n",
      "  6     400           0.29        219.53       96.06         81.34    0.89\n",
      "\u001b[38;5;2m✔ Saved pipeline to output directory\u001b[0m\n",
      "training/bert/model-last\n"
     ]
    }
   ],
   "source": [
    "!spacy project run train"
   ]
  },
  {
   "cell_type": "code",
   "execution_count": null,
   "metadata": {
    "colab": {
     "base_uri": "https://localhost:8080/"
    },
    "id": "Cs5wcaUpthXe",
    "outputId": "307703a3-ba94-461c-b343-63bac2e41ccc"
   },
   "outputs": [
    {
     "name": "stdout",
     "output_type": "stream",
     "text": [
      "\u001b[1m\n",
      "================================== evaluate ==================================\u001b[0m\n",
      "Running command: /usr/bin/python3 -m spacy evaluate ./training/bert/model-best ./corpus/test.spacy --output ./metrics/bert.json --gpu-id 0\n",
      "\u001b[38;5;4mℹ Using GPU: 0\u001b[0m\n",
      "\u001b[1m\n",
      "================================== Results ==================================\u001b[0m\n",
      "\n",
      "TOK                   99.76\n",
      "TEXTCAT (macro AUC)   95.30\n",
      "SPEED                 6114 \n",
      "\n",
      "\u001b[1m\n",
      "=========================== Textcat F (per label) ===========================\u001b[0m\n",
      "\n",
      "               P       R       F\n",
      "sadness    89.57   90.19   89.88\n",
      "fear       78.33   91.96   84.60\n",
      "love       85.90   42.14   56.54\n",
      "anger      86.36   82.91   84.60\n",
      "surprise   75.56   51.52   61.26\n",
      "joy        89.08   90.36   89.71\n",
      "\n",
      "\u001b[1m\n",
      "======================== Textcat ROC AUC (per label) ========================\u001b[0m\n",
      "\n",
      "           ROC AUC\n",
      "sadness       0.98\n",
      "fear          0.99\n",
      "love          0.91\n",
      "anger         0.96\n",
      "surprise      0.92\n",
      "joy           0.97\n",
      "\n",
      "\u001b[38;5;2m✔ Saved results to metrics/bert.json\u001b[0m\n"
     ]
    }
   ],
   "source": [
    "!spacy project run evaluate"
   ]
  },
  {
   "cell_type": "code",
   "execution_count": null,
   "metadata": {
    "id": "xExU3VA7voIS"
   },
   "outputs": [],
   "source": [
    "import spacy"
   ]
  },
  {
   "cell_type": "code",
   "execution_count": null,
   "metadata": {
    "colab": {
     "base_uri": "https://localhost:8080/"
    },
    "id": "Z6nMhdbm4zUb",
    "outputId": "b9725717-20a0-493a-fac2-fd0efb187ce4"
   },
   "outputs": [
    {
     "name": "stdout",
     "output_type": "stream",
     "text": [
      "{'sadness': 0.8889601230621338, 'fear': 0.04584546014666557, 'love': 0.02361110970377922, 'anger': 0.08943260461091995, 'surprise': 0.019803691655397415, 'joy': 0.048012539744377136}\n"
     ]
    }
   ],
   "source": [
    "text = \"che disorganizzazione ad agrigento! sono in quarantena da 7 giorni e non ho ancora ricevuto una chiamata dalla provincia\"\n",
    "# Loading the best model from output_updated folder\n",
    "nlp = spacy.load(\"/content/textcat_goemotions/training/bert/model-best\")\n",
    "demo = nlp(text)\n",
    "print(demo.cats)"
   ]
  },
  {
   "cell_type": "code",
   "execution_count": null,
   "metadata": {
    "colab": {
     "base_uri": "https://localhost:8080/"
    },
    "id": "bH90FAmVDsbm",
    "outputId": "8ca42d32-12d6-4554-c574-12fba7de007d"
   },
   "outputs": [
    {
     "name": "stdout",
     "output_type": "stream",
     "text": [
      "\u001b[38;5;4mℹ Building package artifacts: wheel\u001b[0m\n",
      "\u001b[38;5;2m✔ Loaded meta.json from file\u001b[0m\n",
      "/content/textcat_goemotions/training/bert/model-best/meta.json\n",
      "\u001b[38;5;2m✔ Successfully created package 'it_textcat_umberto-0.0.1'\u001b[0m\n",
      "/content/textcat_goemotions/packages/it_textcat_umberto-0.0.1\n",
      "running bdist_wheel\n",
      "running build\n",
      "running build_py\n",
      "creating build\n",
      "creating build/lib\n",
      "creating build/lib/it_textcat_umberto\n",
      "copying it_textcat_umberto/__init__.py -> build/lib/it_textcat_umberto\n",
      "creating build/lib/it_textcat_umberto/it_textcat_umberto-0.0.1\n",
      "copying it_textcat_umberto/it_textcat_umberto-0.0.1/tokenizer -> build/lib/it_textcat_umberto/it_textcat_umberto-0.0.1\n",
      "copying it_textcat_umberto/it_textcat_umberto-0.0.1/meta.json -> build/lib/it_textcat_umberto/it_textcat_umberto-0.0.1\n",
      "copying it_textcat_umberto/it_textcat_umberto-0.0.1/config.cfg -> build/lib/it_textcat_umberto/it_textcat_umberto-0.0.1\n",
      "creating build/lib/it_textcat_umberto/it_textcat_umberto-0.0.1/vocab\n",
      "copying it_textcat_umberto/it_textcat_umberto-0.0.1/vocab/key2row -> build/lib/it_textcat_umberto/it_textcat_umberto-0.0.1/vocab\n",
      "copying it_textcat_umberto/it_textcat_umberto-0.0.1/vocab/vectors -> build/lib/it_textcat_umberto/it_textcat_umberto-0.0.1/vocab\n",
      "copying it_textcat_umberto/it_textcat_umberto-0.0.1/vocab/lookups.bin -> build/lib/it_textcat_umberto/it_textcat_umberto-0.0.1/vocab\n",
      "copying it_textcat_umberto/it_textcat_umberto-0.0.1/vocab/strings.json -> build/lib/it_textcat_umberto/it_textcat_umberto-0.0.1/vocab\n",
      "creating build/lib/it_textcat_umberto/it_textcat_umberto-0.0.1/textcat\n",
      "copying it_textcat_umberto/it_textcat_umberto-0.0.1/textcat/model -> build/lib/it_textcat_umberto/it_textcat_umberto-0.0.1/textcat\n",
      "copying it_textcat_umberto/it_textcat_umberto-0.0.1/textcat/cfg -> build/lib/it_textcat_umberto/it_textcat_umberto-0.0.1/textcat\n",
      "creating build/lib/it_textcat_umberto/it_textcat_umberto-0.0.1/transformer\n",
      "copying it_textcat_umberto/it_textcat_umberto-0.0.1/transformer/cfg -> build/lib/it_textcat_umberto/it_textcat_umberto-0.0.1/transformer\n",
      "creating build/lib/it_textcat_umberto/it_textcat_umberto-0.0.1/transformer/model\n",
      "copying it_textcat_umberto/it_textcat_umberto-0.0.1/transformer/model/special_tokens_map.json -> build/lib/it_textcat_umberto/it_textcat_umberto-0.0.1/transformer/model\n",
      "copying it_textcat_umberto/it_textcat_umberto-0.0.1/transformer/model/config.json -> build/lib/it_textcat_umberto/it_textcat_umberto-0.0.1/transformer/model\n",
      "copying it_textcat_umberto/it_textcat_umberto-0.0.1/transformer/model/tokenizer_config.json -> build/lib/it_textcat_umberto/it_textcat_umberto-0.0.1/transformer/model\n",
      "copying it_textcat_umberto/it_textcat_umberto-0.0.1/transformer/model/vocab.json -> build/lib/it_textcat_umberto/it_textcat_umberto-0.0.1/transformer/model\n",
      "copying it_textcat_umberto/it_textcat_umberto-0.0.1/transformer/model/pytorch_model.bin -> build/lib/it_textcat_umberto/it_textcat_umberto-0.0.1/transformer/model\n",
      "copying it_textcat_umberto/it_textcat_umberto-0.0.1/transformer/model/merges.txt -> build/lib/it_textcat_umberto/it_textcat_umberto-0.0.1/transformer/model\n",
      "copying it_textcat_umberto/it_textcat_umberto-0.0.1/transformer/model/tokenizer.json -> build/lib/it_textcat_umberto/it_textcat_umberto-0.0.1/transformer/model\n",
      "copying it_textcat_umberto/meta.json -> build/lib/it_textcat_umberto\n",
      "/usr/local/lib/python3.7/dist-packages/setuptools/command/install.py:37: SetuptoolsDeprecationWarning: setup.py install is deprecated. Use build and pip and other standards-based tools.\n",
      "  setuptools.SetuptoolsDeprecationWarning,\n",
      "running install\n",
      "running install_lib\n",
      "creating build/bdist.linux-x86_64\n",
      "creating build/bdist.linux-x86_64/wheel\n",
      "creating build/bdist.linux-x86_64/wheel/it_textcat_umberto\n",
      "creating build/bdist.linux-x86_64/wheel/it_textcat_umberto/it_textcat_umberto-0.0.1\n",
      "creating build/bdist.linux-x86_64/wheel/it_textcat_umberto/it_textcat_umberto-0.0.1/vocab\n",
      "creating build/bdist.linux-x86_64/wheel/it_textcat_umberto/it_textcat_umberto-0.0.1/textcat\n",
      "creating build/bdist.linux-x86_64/wheel/it_textcat_umberto/it_textcat_umberto-0.0.1/transformer\n",
      "creating build/bdist.linux-x86_64/wheel/it_textcat_umberto/it_textcat_umberto-0.0.1/transformer/model\n",
      "running install_egg_info\n",
      "running egg_info\n",
      "creating it_textcat_umberto.egg-info\n",
      "writing manifest file 'it_textcat_umberto.egg-info/SOURCES.txt'\n",
      "warning: no files found matching 'LICENSE'\n",
      "writing manifest file 'it_textcat_umberto.egg-info/SOURCES.txt'\n",
      "Copying it_textcat_umberto.egg-info to build/bdist.linux-x86_64/wheel/it_textcat_umberto-0.0.1-py3.7.egg-info\n",
      "running install_scripts\n",
      "\u001b[38;5;2m✔ Successfully created binary wheel\u001b[0m\n",
      "/content/textcat_goemotions/packages/it_textcat_umberto-0.0.1/dist/it_textcat_umberto-0.0.1-py3-none-any.whl\n"
     ]
    }
   ],
   "source": [
    "!/usr/bin/python3 -m spacy package /content/textcat_goemotions/training/bert/model-best /content/textcat_goemotions/packages/ --name textcat_umberto --force --version 0.0.1 --build wheel"
   ]
  },
  {
   "cell_type": "code",
   "execution_count": null,
   "metadata": {
    "colab": {
     "base_uri": "https://localhost:8080/"
    },
    "id": "GFFziOm7xR1A",
    "outputId": "5d46283e-d1bb-49a5-80a4-ea45c683586d"
   },
   "outputs": [
    {
     "name": "stdout",
     "output_type": "stream",
     "text": [
      "\u001b[38;5;4mℹ Building package artifacts: sdist\u001b[0m\n",
      "\u001b[38;5;2m✔ Loaded meta.json from file\u001b[0m\n",
      "/content/textcat_goemotions/training/bert/model-best/meta.json\n",
      "\u001b[38;5;2m✔ Successfully created package 'it_textcat_umberto-0.0.1'\u001b[0m\n",
      "/content/textcat_goemotions/packages/it_textcat_umberto-0.0.1\n",
      "running sdist\n",
      "running egg_info\n",
      "warning: no files found matching 'LICENSE'\n",
      "writing manifest file 'it_textcat_umberto.egg-info/SOURCES.txt'\n",
      "warning: sdist: standard file not found: should have one of README, README.rst, README.txt, README.md\n",
      "\n",
      "running check\n",
      "warning: check: missing required meta-data: url\n",
      "\n",
      "warning: check: missing meta-data: either (author and author_email) or (maintainer and maintainer_email) should be supplied\n",
      "\n",
      "creating it_textcat_umberto-0.0.1\n",
      "creating it_textcat_umberto-0.0.1/it_textcat_umberto\n",
      "creating it_textcat_umberto-0.0.1/it_textcat_umberto.egg-info\n",
      "creating it_textcat_umberto-0.0.1/it_textcat_umberto/it_textcat_umberto-0.0.1\n",
      "creating it_textcat_umberto-0.0.1/it_textcat_umberto/it_textcat_umberto-0.0.1/textcat\n",
      "creating it_textcat_umberto-0.0.1/it_textcat_umberto/it_textcat_umberto-0.0.1/transformer\n",
      "creating it_textcat_umberto-0.0.1/it_textcat_umberto/it_textcat_umberto-0.0.1/transformer/model\n",
      "creating it_textcat_umberto-0.0.1/it_textcat_umberto/it_textcat_umberto-0.0.1/vocab\n",
      "copying MANIFEST.in -> it_textcat_umberto-0.0.1\n",
      "copying meta.json -> it_textcat_umberto-0.0.1\n",
      "copying setup.py -> it_textcat_umberto-0.0.1\n",
      "copying it_textcat_umberto/__init__.py -> it_textcat_umberto-0.0.1/it_textcat_umberto\n",
      "copying it_textcat_umberto/meta.json -> it_textcat_umberto-0.0.1/it_textcat_umberto\n",
      "copying it_textcat_umberto.egg-info/PKG-INFO -> it_textcat_umberto-0.0.1/it_textcat_umberto.egg-info\n",
      "copying it_textcat_umberto.egg-info/SOURCES.txt -> it_textcat_umberto-0.0.1/it_textcat_umberto.egg-info\n",
      "copying it_textcat_umberto.egg-info/dependency_links.txt -> it_textcat_umberto-0.0.1/it_textcat_umberto.egg-info\n",
      "copying it_textcat_umberto.egg-info/entry_points.txt -> it_textcat_umberto-0.0.1/it_textcat_umberto.egg-info\n",
      "copying it_textcat_umberto.egg-info/not-zip-safe -> it_textcat_umberto-0.0.1/it_textcat_umberto.egg-info\n",
      "copying it_textcat_umberto.egg-info/requires.txt -> it_textcat_umberto-0.0.1/it_textcat_umberto.egg-info\n",
      "copying it_textcat_umberto.egg-info/top_level.txt -> it_textcat_umberto-0.0.1/it_textcat_umberto.egg-info\n",
      "copying it_textcat_umberto/it_textcat_umberto-0.0.1/config.cfg -> it_textcat_umberto-0.0.1/it_textcat_umberto/it_textcat_umberto-0.0.1\n",
      "copying it_textcat_umberto/it_textcat_umberto-0.0.1/meta.json -> it_textcat_umberto-0.0.1/it_textcat_umberto/it_textcat_umberto-0.0.1\n",
      "copying it_textcat_umberto/it_textcat_umberto-0.0.1/tokenizer -> it_textcat_umberto-0.0.1/it_textcat_umberto/it_textcat_umberto-0.0.1\n",
      "copying it_textcat_umberto/it_textcat_umberto-0.0.1/textcat/cfg -> it_textcat_umberto-0.0.1/it_textcat_umberto/it_textcat_umberto-0.0.1/textcat\n",
      "copying it_textcat_umberto/it_textcat_umberto-0.0.1/textcat/model -> it_textcat_umberto-0.0.1/it_textcat_umberto/it_textcat_umberto-0.0.1/textcat\n",
      "copying it_textcat_umberto/it_textcat_umberto-0.0.1/transformer/cfg -> it_textcat_umberto-0.0.1/it_textcat_umberto/it_textcat_umberto-0.0.1/transformer\n",
      "copying it_textcat_umberto/it_textcat_umberto-0.0.1/transformer/model/config.json -> it_textcat_umberto-0.0.1/it_textcat_umberto/it_textcat_umberto-0.0.1/transformer/model\n",
      "copying it_textcat_umberto/it_textcat_umberto-0.0.1/transformer/model/merges.txt -> it_textcat_umberto-0.0.1/it_textcat_umberto/it_textcat_umberto-0.0.1/transformer/model\n",
      "copying it_textcat_umberto/it_textcat_umberto-0.0.1/transformer/model/pytorch_model.bin -> it_textcat_umberto-0.0.1/it_textcat_umberto/it_textcat_umberto-0.0.1/transformer/model\n",
      "copying it_textcat_umberto/it_textcat_umberto-0.0.1/transformer/model/special_tokens_map.json -> it_textcat_umberto-0.0.1/it_textcat_umberto/it_textcat_umberto-0.0.1/transformer/model\n",
      "copying it_textcat_umberto/it_textcat_umberto-0.0.1/transformer/model/tokenizer.json -> it_textcat_umberto-0.0.1/it_textcat_umberto/it_textcat_umberto-0.0.1/transformer/model\n",
      "copying it_textcat_umberto/it_textcat_umberto-0.0.1/transformer/model/tokenizer_config.json -> it_textcat_umberto-0.0.1/it_textcat_umberto/it_textcat_umberto-0.0.1/transformer/model\n",
      "copying it_textcat_umberto/it_textcat_umberto-0.0.1/transformer/model/vocab.json -> it_textcat_umberto-0.0.1/it_textcat_umberto/it_textcat_umberto-0.0.1/transformer/model\n",
      "copying it_textcat_umberto/it_textcat_umberto-0.0.1/vocab/key2row -> it_textcat_umberto-0.0.1/it_textcat_umberto/it_textcat_umberto-0.0.1/vocab\n",
      "copying it_textcat_umberto/it_textcat_umberto-0.0.1/vocab/lookups.bin -> it_textcat_umberto-0.0.1/it_textcat_umberto/it_textcat_umberto-0.0.1/vocab\n",
      "copying it_textcat_umberto/it_textcat_umberto-0.0.1/vocab/strings.json -> it_textcat_umberto-0.0.1/it_textcat_umberto/it_textcat_umberto-0.0.1/vocab\n",
      "copying it_textcat_umberto/it_textcat_umberto-0.0.1/vocab/vectors -> it_textcat_umberto-0.0.1/it_textcat_umberto/it_textcat_umberto-0.0.1/vocab\n",
      "Creating tar archive\n",
      "removing 'it_textcat_umberto-0.0.1' (and everything under it)\n",
      "\u001b[38;5;2m✔ Successfully created zipped Python package\u001b[0m\n",
      "/content/textcat_goemotions/packages/it_textcat_umberto-0.0.1/dist/it_textcat_umberto-0.0.1.tar.gz\n"
     ]
    }
   ],
   "source": [
    "!/usr/bin/python3 -m spacy package /content/textcat_goemotions/training/bert/model-best /content/textcat_goemotions/packages/ --name textcat_umberto --force --version 0.0.1 --build sdist"
   ]
  },
  {
   "cell_type": "code",
   "execution_count": null,
   "metadata": {
    "id": "UZoNCeqGxmLi"
   },
   "outputs": [],
   "source": [
    "!cp -a /content/textcat_goemotions/. /content/drive/Shareddrives/topnetwork/Emotion_spacy_pipe/it_textcat_umberto"
   ]
  },
  {
   "cell_type": "code",
   "execution_count": null,
   "metadata": {
    "colab": {
     "base_uri": "https://localhost:8080/"
    },
    "id": "klAI3GzzLM9W",
    "outputId": "2b43fcbf-97ea-4836-88f0-12c5866433d2"
   },
   "outputs": [
    {
     "name": "stdout",
     "output_type": "stream",
     "text": [
      "\u001b[0m\u001b[01;34massets\u001b[0m/    \u001b[01;34mpackages\u001b[0m/    requirements.txt                    \u001b[01;34mtraining\u001b[0m/\n",
      "\u001b[01;34mconfigs\u001b[0m/   project.yml  \u001b[01;34mscripts\u001b[0m/\n",
      "meta.json  README.md    test_project_textcat_goemotions.py\n"
     ]
    }
   ],
   "source": [
    "%ls"
   ]
  }
 ],
 "metadata": {
  "accelerator": "GPU",
  "colab": {
   "collapsed_sections": [],
   "name": "textcat_umberto.ipynb",
   "provenance": []
  },
  "kernelspec": {
   "display_name": "Python 3 (ipykernel)",
   "language": "python",
   "name": "python3"
  },
  "language_info": {
   "codemirror_mode": {
    "name": "ipython",
    "version": 3
   },
   "file_extension": ".py",
   "mimetype": "text/x-python",
   "name": "python",
   "nbconvert_exporter": "python",
   "pygments_lexer": "ipython3",
   "version": "3.8.8"
  }
 },
 "nbformat": 4,
 "nbformat_minor": 4
}
